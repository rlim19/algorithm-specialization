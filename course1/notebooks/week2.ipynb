{
 "cells": [
  {
   "cell_type": "markdown",
   "metadata": {},
   "source": [
    "# Learning points\n",
    "\n",
    "- count inversions with divide and conquer\n",
    "- find the closest pair of points in 2d-plane"
   ]
  },
  {
   "cell_type": "markdown",
   "metadata": {},
   "source": [
    "## Count inversion in the array\n",
    "\n",
    "Inversion defined:\n",
    "\n",
    "- given a list $L$ with index $i < j$, then an inversion is when $L_{i} > L_{j}$\n",
    "- Number of inversions are counted from the modified version of merge-sort in the merge subroutine:\n",
    "\n",
    "    - The inversions occur in between the left and right sublists, defined here as split inversion (`split_inv`)\n",
    "    - In the split inversion, an inversion happens when an element from right sublist is being selected instead of the left sublist. The number of inversion is then the rest of elements in the left sublist. As these are the inversions as defined, above.\n",
    "    - Note: the left sublist sorted has index $<$ the index in the right sublist after sorted\n"
   ]
  },
  {
   "cell_type": "code",
   "execution_count": 82,
   "metadata": {
    "collapsed": false
   },
   "outputs": [
    {
     "name": "stdout",
     "output_type": "stream",
     "text": [
      "inversion count works\n"
     ]
    }
   ],
   "source": [
    "# functional style to count the inversion in a list of integers\n",
    "\n",
    "def count_inv_recur(L):\n",
    "    res = {'count': 0}\n",
    "    inv_sort(L, res)\n",
    "    return res['count']\n",
    "\n",
    "def inv_sort(L, res):\n",
    "    \n",
    "    def merge(L1, L2):\n",
    "        if (len(L1) == 0): return L2\n",
    "        elif (len(L2) == 0): return L1\n",
    "        elif L1[0] < L2[0]: return [L1[0]] + merge(L1[1:], L2)\n",
    "        else: \n",
    "            res['count'] = res['count'] + len(L1)\n",
    "            return ([L2[0]] + merge(L1, L2[1:]))\n",
    "    n = len(L) // 2\n",
    "    if (n == 0): return L\n",
    "    else: \n",
    "        return merge(inv_sort(L[0:n], res), inv_sort(L[n:], res))\n",
    "\n",
    "assert count_inv_recur([1 ,3, 5, 2, 4, 6]) == 3\n",
    "assert count_inv_recur([6, 5, 4, 3, 2, 1]) == 15\n",
    "print \"inversion count works\""
   ]
  },
  {
   "cell_type": "code",
   "execution_count": 83,
   "metadata": {
    "collapsed": false
   },
   "outputs": [
    {
     "name": "stdout",
     "output_type": "stream",
     "text": [
      "inversion count works\n"
     ]
    }
   ],
   "source": [
    "# using merge sort divide-conquer paradigmn\n",
    "\n",
    "def sort_and_count(L):\n",
    "    if len(L) <= 1:\n",
    "        return L, 0\n",
    "    mid = len(L) // 2\n",
    "    left, left_inv = sort_and_count(L[:mid])\n",
    "    right, right_inv = sort_and_count(L[mid:])\n",
    "    merged, split_inv = merge_count(left, right)\n",
    "    count = left_inv + right_inv + split_inv\n",
    "    return merged, count\n",
    "    \n",
    "def merge_count(left, right):\n",
    "    result = list()\n",
    "    i, j = 0, 0\n",
    "    inv_count = 0\n",
    "    while i < len(left) and j < len(right):\n",
    "        if right[j] < left[i]:\n",
    "            result.append(right[j])\n",
    "            j += 1\n",
    "            inv_count += (len(left) - i)\n",
    "        else:\n",
    "            result.append(left[i])\n",
    "            i += 1\n",
    "    result += left[i:]\n",
    "    result += right[j:]\n",
    "    return result, inv_count\n",
    "\n",
    "assert sort_and_count([1 ,3, 5, 2, 4, 6])[1] == 3\n",
    "assert sort_and_count([6, 5, 4, 3, 2, 1])[1] == 15\n",
    "print \"inversion count works\""
   ]
  },
  {
   "cell_type": "markdown",
   "metadata": {
    "collapsed": true
   },
   "source": [
    "## Find the closest pair\n",
    "\n",
    "- Prior knowledge, see [wiki](https://en.wikipedia.org/wiki/Closest_pair_of_points_problem)\n",
    "- Input: a set of points ${P_1, P_2, ..., P_n}$ in a 2D plane\n",
    "- Output: a pair of points $p^*, q^*$ of distinct points that minimize $d(p, q)$ over $p,q \\in P$\n",
    "- The distance between two points, defined as a $Eucledian$ distance, given $P_i = (x_i, y_i), and P_j = (x_j, y_j)$\n",
    "    \n",
    "    $$d(P_i, P_j) = \\sqrt{(x_i - x_j)^2 + (y_i - y_j)^2}$$\n",
    "- Assumption: All points have distinct x- and y-coordinates, approached with divide-and-conquer paradigm\n",
    "- Pseudocode:\n",
    "\n",
    "    1. make copies of points, i.e, Px and Py\n",
    "        Px is sorted by x-coordinate and Py is sorted by y-coordinate\n",
    "    2. Divide the `Points` into half, Q (left) and R (right) sides to form Q_x, Q_y, and R_x, R_y\n",
    "    3. (p1, q1, d1) = closest_pair(Q_x, Q_y) from the left side\n",
    "    4. (p2, q2, d2) = closest_pair(R_x, R_y) from the right side\n",
    "    5. (p3, q3, d3) = closest_pair from points between the left and right sides with a delta (from left and right)\n",
    "    6. return the closest pair of (p1, q1), (p2, q2), (p3, q3) with the smallest m{1,2,3}\n",
    "\n",
    "    "
   ]
  },
  {
   "cell_type": "code",
   "execution_count": 84,
   "metadata": {
    "collapsed": false
   },
   "outputs": [
    {
     "name": "stdout",
     "output_type": "stream",
     "text": [
      "closest pair works\n"
     ]
    }
   ],
   "source": [
    "import math\n",
    "\n",
    "def dist(p1, p2):\n",
    "    return math.sqrt( (p1[0] - p2[0]) ** 2 + (p1[1] - p2[1]) ** 2 )\n",
    "\n",
    "def find_closest_pair(Points):\n",
    "    P_x = sorted(Points, key = lambda p: p[0])\n",
    "    P_y = sorted(Points, key = lambda p: p[1])\n",
    "    p1, p2, m = closest_pair(P_x, P_y)\n",
    "    return sorted([p1, p2], key = lambda p: p[0])\n",
    "\n",
    "def closest_pair(P_x, P_y):\n",
    "    num_points = len(P_x)\n",
    "    if num_points <= 3: \n",
    "        return brute_force(P_x)\n",
    "    mid = num_points // 2\n",
    "    Q_x = P_x[:mid]\n",
    "    R_x = P_x[mid:]\n",
    "    \n",
    "    x_bar = P_x[mid][0]\n",
    "    Q_y, R_y = [], []\n",
    "    for p in P_y:\n",
    "        if p[0] <= x_bar:\n",
    "            Q_y.append(p)\n",
    "        else:\n",
    "            R_y.append(p)\n",
    "    p1, q1, d1 = closest_pair(Q_x, Q_y)\n",
    "    p2, q2, d2 = closest_pair(R_x, R_y)\n",
    "    if d1 <= d2:\n",
    "        delta = d1\n",
    "        bestpair = p1, q1\n",
    "    else:\n",
    "        delta = d2\n",
    "        bestpair = p2, q2\n",
    "    p3, q3, d3 = closest_split_pair(P_x, P_y, delta)\n",
    "    \n",
    "    if delta <= d3:\n",
    "        return bestpair[0], bestpair[1], delta\n",
    "    else:\n",
    "        return p3, q3, d3\n",
    "\n",
    "def closest_split_pair(P_x, P_y, delta):\n",
    "    num_points = len(P_x)\n",
    "    x_bar = P_x[num_points // 2][0]\n",
    "    s_y = [ x for x in P_y if x_bar - delta <= x[0] <= x_bar + delta ]\n",
    "    best = delta\n",
    "    best_pair = None, None\n",
    "    for i in xrange(len(s_y) -1):\n",
    "        for j in xrange(i+1, min(i + 7, len(s_y))):\n",
    "            p, q = s_y[i], s_y[j]\n",
    "            dst = dist(p, q)\n",
    "            if dst < best:\n",
    "                best_pair = p, q\n",
    "                best = dst\n",
    "    return best_pair[0], best_pair[1], best\n",
    "    \n",
    "    \n",
    "def brute_force(P):\n",
    "    P = [p for p in P if p is not None]\n",
    "    num_points = len(P)\n",
    "    min_d = dist(P[0], P[1])\n",
    "    if num_points <= 2: \n",
    "        return P[0], P[1], min_d\n",
    "    else:\n",
    "        for i in xrange(num_points):\n",
    "            for j in xrange(i+1, num_points):\n",
    "                if i == 0 and j == 1: continue\n",
    "                else:\n",
    "                    d = dist(P[i], P[j])\n",
    "                    if d < min_d:\n",
    "                        min_d = d\n",
    "                        p1, p2 = P[i], P[j]\n",
    "    return p1, p2, min_d\n",
    "        \n",
    "    \n",
    "\n",
    "\n",
    "assert find_closest_pair([(1, 1), (1, 5), (2, 3), (3, 2), (5, 5), (5, 3)]) == [(2, 3), (3, 2)]\n",
    "assert find_closest_pair([(1, 1), (1, 5), (2, 3), (3, 2), (5, 5), (5, 3), (4, 4)]) == [(4, 4), (5, 3)]\n",
    "print \"closest pair works\""
   ]
  },
  {
   "cell_type": "code",
   "execution_count": null,
   "metadata": {
    "collapsed": true
   },
   "outputs": [],
   "source": []
  }
 ],
 "metadata": {
  "kernelspec": {
   "display_name": "jupyter2_Python_2",
   "language": "python",
   "name": "jupyter2_python_2"
  },
  "language_info": {
   "codemirror_mode": {
    "name": "ipython",
    "version": 2
   },
   "file_extension": ".py",
   "mimetype": "text/x-python",
   "name": "python",
   "nbconvert_exporter": "python",
   "pygments_lexer": "ipython2",
   "version": "2.7.13"
  }
 },
 "nbformat": 4,
 "nbformat_minor": 0
}
