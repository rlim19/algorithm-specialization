{
 "cells": [
  {
   "cell_type": "markdown",
   "metadata": {},
   "source": [
    "# Learning points\n",
    "\n",
    "- count inversions with divide and conquer"
   ]
  },
  {
   "cell_type": "markdown",
   "metadata": {},
   "source": [
    "## Count inversion in the array\n",
    "\n",
    "Inversion defined:\n",
    "\n",
    "- given array $A$ with index $i < j$, then an inversion is when $A_{i} > A_{j}$"
   ]
  },
  {
   "cell_type": "code",
   "execution_count": 14,
   "metadata": {
    "collapsed": false
   },
   "outputs": [
    {
     "name": "stdout",
     "output_type": "stream",
     "text": [
      "inversion count works\n"
     ]
    }
   ],
   "source": [
    "# functional style to count the inversion in a list of integers\n",
    "\n",
    "def count_inv_recur(L):\n",
    "    res = {'count': 0}\n",
    "    inv_sort(L, res)\n",
    "    return res['count']\n",
    "\n",
    "def inv_sort(L, res):\n",
    "    \n",
    "    def merge(L1, L2):\n",
    "        if (len(L1) == 0): return L2\n",
    "        elif (len(L2) == 0): return L1\n",
    "        elif L1[0] < L2[0]: return [L1[0]] + merge(L1[1:], L2)\n",
    "        else: \n",
    "            res['count'] = res['count'] + len(L1)\n",
    "            return ([L2[0]] + merge(L1, L2[1:]))\n",
    "    n = len(L) // 2\n",
    "    if (n == 0): return L\n",
    "    else: \n",
    "        return merge(inv_sort(L[0:n], res), inv_sort(L[n:], res))\n",
    "\n",
    "assert count_inv_recur([1 ,3, 5, 2, 4, 6]) == 3\n",
    "assert count_inv_recur([6, 5, 4, 3, 2, 1]) == 15\n",
    "print \"inversion count works\""
   ]
  },
  {
   "cell_type": "code",
   "execution_count": 15,
   "metadata": {
    "collapsed": false
   },
   "outputs": [
    {
     "name": "stdout",
     "output_type": "stream",
     "text": [
      "inversion count works\n"
     ]
    }
   ],
   "source": [
    "# using merge sort divide-conquer paradigmn\n",
    "\n",
    "def sort_and_count(L):\n",
    "    if len(L) <= 1:\n",
    "        return L, 0\n",
    "    mid = len(L) // 2\n",
    "    left, left_inv = sort_and_count(L[:mid])\n",
    "    right, right_inv = sort_and_count(L[mid:])\n",
    "    merged, split_inv = merge_list(left, right)\n",
    "    count = left_inv + right_inv + split_inv\n",
    "    return merged, count\n",
    "    \n",
    "def merge_list(left, right):\n",
    "    result = list()\n",
    "    i, j = 0, 0\n",
    "    inv_count = 0\n",
    "    while i < len(left) and j < len(right):\n",
    "        if right[j] < left[i]:\n",
    "            result.append(right[j])\n",
    "            j += 1\n",
    "            inv_count += (len(left) - i)\n",
    "        else:\n",
    "            result.append(left[i])\n",
    "            i += 1\n",
    "    result += left[i:]\n",
    "    result += right[j:]\n",
    "    return result, inv_count\n",
    "\n",
    "assert sort_and_count([1 ,3, 5, 2, 4, 6])[1] == 3\n",
    "assert sort_and_count([6, 5, 4, 3, 2, 1])[1] == 15\n",
    "print \"inversion count works\""
   ]
  },
  {
   "cell_type": "code",
   "execution_count": null,
   "metadata": {
    "collapsed": true
   },
   "outputs": [],
   "source": []
  }
 ],
 "metadata": {
  "kernelspec": {
   "display_name": "jupyter2_Python_2",
   "language": "python",
   "name": "jupyter2_python_2"
  },
  "language_info": {
   "codemirror_mode": {
    "name": "ipython",
    "version": 2
   },
   "file_extension": ".py",
   "mimetype": "text/x-python",
   "name": "python",
   "nbconvert_exporter": "python",
   "pygments_lexer": "ipython2",
   "version": "2.7.13"
  }
 },
 "nbformat": 4,
 "nbformat_minor": 0
}
