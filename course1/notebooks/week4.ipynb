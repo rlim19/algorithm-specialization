{
 "cells": [
  {
   "cell_type": "markdown",
   "metadata": {},
   "source": [
    "# Learning points:\n",
    "\n",
    "- randomized selection algorithm\n",
    "- randomized contraction algorithm"
   ]
  },
  {
   "cell_type": "markdown",
   "metadata": {
    "collapsed": true
   },
   "source": [
    "## Randomized selection algorithm\n",
    "\n",
    "### Input:\n",
    "- array: the list of length N in the unsorted order.\n",
    "- i_idx: $i^{th}$ order-statistics that is of interest\n",
    "    \n",
    "    $0^{th}$-order statistics is the `min`\n",
    "\n",
    "    $n^{th}$-order statistics is the `max`\n",
    "- Output:\n",
    "    the element of $i^{th}$ order statistics (with zero-based).\n",
    "        \n",
    "### High-level algorithm:\n",
    "- base case if n is 1, return the element, otherwise\n",
    "- choose pivot at uniformly random.\n",
    "- partition around p, ( after partition, the left array contains any elements less than p, and on the right array contains any elements greater than p, such as the following: `[ < p ] [ p ] [ >p ]` )\n",
    "- let j_idx be a new index of p (note that the result of each partition iteration is the correct position of the pivot, ie., the pivot is correctly positioned at its correct $i^{th}$ order statistics\n",
    "- if j_idx == i-th order statistics (i_idx) that we're looking for, then bingo.. it's done\n",
    "- if j_idx > i_idx, then we recurse again on the left side of the subarray, i,e `[ < p ]`\n",
    "- if j_idx < i_idx, then we recurse again on the right side of the subarray, i.e `[ > p ]` with the $i^{th}$ order - $j^{th}$ order \n"
   ]
  },
  {
   "cell_type": "code",
   "execution_count": 1,
   "metadata": {},
   "outputs": [
    {
     "name": "stdout",
     "output_type": "stream",
     "text": [
      "random selection seems to work\n"
     ]
    }
   ],
   "source": [
    "import pdb\n",
    "import random\n",
    "\n",
    "\n",
    "def rselect(array, i_idx, left=0, right=None):\n",
    "    \"\"\"Return ith-order statistics (zero-based) element from an array \n",
    "    using a randomized algorithm in selecting a pivot idx \"\"\"\n",
    "    \n",
    "    if right is None:\n",
    "        right = len(array) - 1\n",
    "    \n",
    "    if left >= right: \n",
    "        return array[0]\n",
    "    \n",
    "    p_idx = random.randint(left, right)\n",
    "    j_idx = partition(array, left, right, p_idx)\n",
    "    \n",
    "    if j_idx == i_idx: \n",
    "        return array[i_idx]\n",
    "    elif j_idx > i_idx:\n",
    "        return rselect(array[:j_idx+1], i_idx)\n",
    "    elif j_idx < i_idx:\n",
    "        return rselect(array[j_idx:], i_idx - j_idx)\n",
    "    \n",
    "    \n",
    "def partition(array, left, right, p_idx):\n",
    "    array[left], array[p_idx] = array[p_idx], array[left]\n",
    "    p_index = left + 1 \n",
    "    p = array[left]\n",
    "    should_swap = False\n",
    "    \n",
    "    for j in range(left+1, right+1):\n",
    "        if array[j] > p:\n",
    "            should_swap = True\n",
    "        if array[j] <= p:\n",
    "            if should_swap: \n",
    "                array[j], array[p_index] = array[p_index], array[j]\n",
    "            p_index += 1\n",
    "            \n",
    "    array[p_index - 1], array[left] = array[left], array[p_index - 1]\n",
    "\n",
    "    return p_index - 1\n",
    "    \n",
    "    \n",
    "assert rselect([10, 8, 2, 4], 2) == 8\n",
    "assert rselect([10, 8, 2, 4], 1) == 4\n",
    "assert rselect([-10, 8, 2, 4, 7, 9, 10, 12, 13], 5) == 9\n",
    "print \"random selection seems to work\""
   ]
  },
  {
   "cell_type": "markdown",
   "metadata": {},
   "source": [
    "## Randomized contraction algorithm\n",
    "\n",
    "### Input:\n",
    "\n",
    "- graph elements in a `txt` file which needs to be parsed into `adjacency list`\n",
    "\n",
    "#### Graph representation by `adjacency list`\n",
    "- adjacency list consists of:\n",
    "    - a list of edges\n",
    "    - a list of vertices\n",
    "\n",
    "### High-level algorithm:\n",
    "\n",
    "- While there are more than 2 vertices:\n",
    "    - pick a remaining edge`(u,v)` uniformly at random\n",
    "    - merge `u-v` vertices into a single vertex\n",
    "    - remove self-loops if occurs\n",
    "- return the min-cut as the number of edges within 2 vertices\n"
   ]
  },
  {
   "cell_type": "code",
   "execution_count": 2,
   "metadata": {},
   "outputs": [
    {
     "data": {
      "text/plain": [
       "([2, 4], [(2, 4), (2, 4), (2, 4)])"
      ]
     },
     "execution_count": 2,
     "metadata": {},
     "output_type": "execute_result"
    },
    {
     "name": "stdout",
     "output_type": "stream",
     "text": [
      "contraction seems to work\n"
     ]
    }
   ],
   "source": [
    "import random\n",
    "import sys\n",
    "\n",
    "\n",
    "def parse_graph(filename):\n",
    "    \"\"\"parse graph from a file into adjacency list's graph representation\n",
    "    \n",
    "    This is assumed to be no parallel edges (a pair of edges that have a similar pair of vertices)\n",
    "    \n",
    "    Args: filename for a graph, it looks like as follows:\n",
    "        1    2    4\n",
    "        2    1    3    4\n",
    "        \n",
    "    Returns a tuple of vertices (list of vertices) and edges (list of edges)\n",
    "    \"\"\"\n",
    "    vertices = []\n",
    "    edges = set() # assume no parallel edges!\n",
    "    with open(filename, \"r\") as f:\n",
    "        for line in f:\n",
    "            items = line.rstrip().split()\n",
    "            v = int(items.pop(0))\n",
    "            vertices.append(int(v))\n",
    "            edges.update({tuple(sorted([v, int(i)])) for i in items})\n",
    "    return vertices, list(edges)\n",
    "\n",
    "\n",
    "def random_contraction(vertices, edges):\n",
    "    while len(vertices) > 2:\n",
    "        merged_edge = random.choice(edges)\n",
    "        a, b = merged_edge \n",
    "        vertices.remove(a)\n",
    "        new_edges = []\n",
    "        for e in edges:\n",
    "            if e == merged_edge: \n",
    "                # this will also remove the self-loop\n",
    "                continue \n",
    "            if a in e:\n",
    "                # reassign the edges end-points\n",
    "                if e[0] == a:\n",
    "                    other = e[1]\n",
    "                if e[1] == a:\n",
    "                    other = e[0]\n",
    "                e = tuple(sorted([other, b])) \n",
    "            new_edges.append(e)\n",
    "        edges = new_edges\n",
    "    return vertices, edges \n",
    "\n",
    "\n",
    "def run_trial(n, vertices, edges):\n",
    "    min_cut = sys.maxsize\n",
    "    for _ in range(n):\n",
    "        v, e = random_contraction(vertices[:], edges[:])\n",
    "        if len(e) < min_cut:\n",
    "            min_cut = len(e)\n",
    "    return min_cut\n",
    "                \n",
    "    \n",
    "assert parse_graph(\"./input/test_min_cuts.txt\") == ([1, 2, 3, 4], [(1, 2), (2, 3), (3, 4), (2, 4), (1, 4)])\n",
    "random_contraction([1, 2, 3, 4], [(1, 2), (1, 4), (2, 3), (2, 4), (3, 4)])\n",
    "assert run_trial(10000, [1, 2, 3, 4], [(1, 2), (1, 4), (2, 3), (2, 4), (3, 4)]) == 2\n",
    "print(\"contraction seems to work\")"
   ]
  },
  {
   "cell_type": "code",
   "execution_count": null,
   "metadata": {
    "collapsed": true
   },
   "outputs": [],
   "source": []
  }
 ],
 "metadata": {
  "kernelspec": {
   "display_name": "Python 2",
   "language": "python",
   "name": "python2"
  },
  "language_info": {
   "codemirror_mode": {
    "name": "ipython",
    "version": 2
   },
   "file_extension": ".py",
   "mimetype": "text/x-python",
   "name": "python",
   "nbconvert_exporter": "python",
   "pygments_lexer": "ipython2",
   "version": "2.7.13"
  }
 },
 "nbformat": 4,
 "nbformat_minor": 1
}
