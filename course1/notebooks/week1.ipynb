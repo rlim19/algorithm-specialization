{
 "cells": [
  {
   "cell_type": "markdown",
   "metadata": {},
   "source": [
    "# Learning points\n",
    "\n",
    "- integer multiplication"
   ]
  },
  {
   "cell_type": "markdown",
   "metadata": {},
   "source": [
    "## `integer` multiplication\n",
    "\n",
    "input: two n-digit numbers $x$ and $y$\n",
    "output: the product of $x$ and $y$\n",
    "primitive operation: add or multiplication of a single-digit numbers\n",
    "\n",
    "### high-school multiplication \n",
    "\n",
    "complexity: $<= constant.n^2$, where n is #primitive operation\n",
    "\n",
    "### karatsuba multiplication\n",
    "\n",
    "Based on the recursive paradigm:\n",
    "\n",
    "- $x$ and $y$ represented as $x = 10^{n/2} a + b$ and $y = 10^{n/2} c + d$\n",
    "- n is the number of digits\n",
    "- base case: if n <= 1, then performs a primitive operation\n",
    "- otherwise, recursive operation to solve $x.y$\n",
    "- Recursive steps: $x.y = 10^n a.c + 10^{n/2} (a.d + b.c) + b.d$\n",
    "    - compute m as $n / 2$\n",
    "    - step1: compute $a.c$\n",
    "    - step2: compute $b.d$\n",
    "    - step3: compute $(a + b). (c + d)$\n",
    "    - step4: step3 - step1 - step2 -> $(a.d + b.c)$\n",
    "    - $x.y = 10^{2m} a.c + 10^{m} (a.d + b.c) + b.d$\n",
    "\n",
    "Pseudocode: https://en.wikipedia.org/wiki/Karatsuba_algorithm\n",
    "\n",
    "\n"
   ]
  },
  {
   "cell_type": "code",
   "execution_count": 75,
   "metadata": {
    "collapsed": false
   },
   "outputs": [
    {
     "name": "stdout",
     "output_type": "stream",
     "text": [
      "karatsuba works\n"
     ]
    }
   ],
   "source": [
    "def karatsuba(x, y):\n",
    "    \n",
    "    def recur(n1, n2):\n",
    "        if (n1 < 10 and n2 < 10):\n",
    "            return n1 * n2\n",
    "        else:\n",
    "            max_digit = max(len(str(n1)), len(str(n2)))\n",
    "            m = max_digit // 2 \n",
    "            a, b = divide(n1, m)\n",
    "            c, d = divide(n2, m)\n",
    "            \n",
    "            step1 = recur(a, c)\n",
    "            step2 = recur(b, d)\n",
    "            step3 = recur(a+b, c+d) \n",
    "            step4 = step3 - step1 - step2\n",
    "            return (10 ** (2*m)) * step1 + (10**m) * step4 + step2\n",
    "    return recur(x,y)\n",
    "\n",
    "def divide(n, m):\n",
    "    \"\"\"\n",
    "    divide a digit (n) in half (m)\n",
    "    e.g 1234 into 12 and 34\n",
    "        12345 and\n",
    "    \"\"\"\n",
    "    return (n // (10**m), n % (10**m))\n",
    "\n",
    "assert karatsuba(1234, 5678) == 7006652\n",
    "assert karatsuba(12345, 567) == 6999615\n",
    "assert karatsuba(567, 12345) == 6999615\n",
    "assert karatsuba(1234567, 678) == 837036426\n",
    "print \"karatsuba works\"\n"
   ]
  },
  {
   "cell_type": "code",
   "execution_count": null,
   "metadata": {
    "collapsed": true
   },
   "outputs": [],
   "source": []
  }
 ],
 "metadata": {
  "kernelspec": {
   "display_name": "jupyter2_Python_2",
   "language": "python",
   "name": "jupyter2_python_2"
  },
  "language_info": {
   "codemirror_mode": {
    "name": "ipython",
    "version": 2
   },
   "file_extension": ".py",
   "mimetype": "text/x-python",
   "name": "python",
   "nbconvert_exporter": "python",
   "pygments_lexer": "ipython2",
   "version": "2.7.13"
  }
 },
 "nbformat": 4,
 "nbformat_minor": 0
}
