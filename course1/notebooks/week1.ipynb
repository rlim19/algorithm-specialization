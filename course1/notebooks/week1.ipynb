{
 "cells": [
  {
   "cell_type": "markdown",
   "metadata": {},
   "source": [
    "# References\n",
    "\n",
    "- Kleinberg/Tardos, Algorithm Design, 2005\n",
    "- Dasgupta/Papadimitriou/Vazirani, Algorithms, 2006\n",
    "- Cormen/Leiserson/Rivest/Stein, Introduction to Algorithms, 2009\n",
    "- Mehlohorn/Sanders, Data Structures and Algorithms: The Basic Toolbox, 2008"
   ]
  },
  {
   "cell_type": "markdown",
   "metadata": {},
   "source": [
    "# Learning points\n",
    "\n",
    "- integer multiplication\n",
    "- Sorting (insert, buble, and merge)"
   ]
  },
  {
   "cell_type": "markdown",
   "metadata": {},
   "source": [
    "## `integer` multiplication\n",
    "\n",
    "**input**: \n",
    "\n",
    "- two $n$-digit numbers $x$ and $y$\n",
    "\n",
    "**output**: \n",
    "\n",
    "- the product of $x$ and $y$\n",
    "\n",
    "### high-school multiplication \n",
    "\n",
    "complexity: $<= constant.n^2 $, where $n$ is the number of primitive operation. \n",
    "\n",
    "primitive operation: add or multiplication of a single-digit numbers\n",
    "\n",
    "### karatsuba multiplication\n",
    "\n",
    "Based on the recursive paradigm:\n",
    "\n",
    "- $x$ and $y$ represented as follows:\n",
    "    - $x = 10^{n/2} a + b$ \n",
    "    - $y = 10^{n/2} c + d$\n",
    "- *n* is the number of digits\n",
    "- base case: if n <= 1, then performs a primitive operation\n",
    "- otherwise, recursive operation to solve $x.y$\n",
    "- Recursive steps: $x.y = 10^n a.c + 10^{n/2} (a.d + b.c) + b.d$\n",
    "    - compute $m$ as $n / 2$\n",
    "    - $z_1 = a.c$\n",
    "    - $z_2 = b.d$\n",
    "    - $z_3 = (a + b). (c + d)$\n",
    "    - $z_4 = z_3 - z_1 - z_2 = (a.d + b.c)$\n",
    "    - $x.y = 10^{2m} a.c + 10^{m} (a.d + b.c) + b.d$\n",
    "\n",
    "Pseudocode: https://en.wikipedia.org/wiki/Karatsuba_algorithm\n",
    "\n",
    "\n"
   ]
  },
  {
   "cell_type": "code",
   "execution_count": 1,
   "metadata": {
    "collapsed": false
   },
   "outputs": [
    {
     "name": "stdout",
     "output_type": "stream",
     "text": [
      "karatsuba works\n"
     ]
    }
   ],
   "source": [
    "def karatsuba(x, y):\n",
    "    \n",
    "    def recur(n1, n2):\n",
    "        if (n1 < 10 and n2 < 10):\n",
    "            return n1 * n2\n",
    "        else:\n",
    "            max_digit = max(len(str(n1)), len(str(n2)))\n",
    "            m = max_digit // 2 \n",
    "            a, b = divide(n1, m)\n",
    "            c, d = divide(n2, m)\n",
    "            \n",
    "            z_1 = recur(a, c)\n",
    "            z_2 = recur(b, d)\n",
    "            z_3 = recur(a+b, c+d) \n",
    "            z_4 = z_3 - z_1 - z_2\n",
    "            return (10 ** (2*m)) * z_1 + (10**m) * z_4 + z_2\n",
    "    return recur(x,y)\n",
    "\n",
    "def divide(n, m):\n",
    "    \"\"\"\n",
    "    divide a digit (n) in half (m)\n",
    "    e.g 1234 into 12 and 34\n",
    "        12345 and\n",
    "    \"\"\"\n",
    "    return (n // (10**m), n % (10**m))\n",
    "\n",
    "assert karatsuba(1234, 5678) == 7006652\n",
    "assert karatsuba(12345, 567) == 6999615\n",
    "assert karatsuba(567, 12345) == 6999615\n",
    "assert karatsuba(1234567, 678) == 837036426\n",
    "# karatsuba(3141592653589793238462643383279502884197169399375105820974944592, 2718281828459045235360287471352662497757247093699959574966967627)\n",
    "print \"karatsuba works\"\n",
    "\n"
   ]
  },
  {
   "cell_type": "markdown",
   "metadata": {},
   "source": [
    "# Sort\n",
    "\n",
    "Methods:\n",
    "\n",
    "- insertion\n",
    "- selection\n",
    "- bubble\n",
    "- merge-sort"
   ]
  },
  {
   "cell_type": "code",
   "execution_count": 2,
   "metadata": {
    "collapsed": false
   },
   "outputs": [
    {
     "name": "stdout",
     "output_type": "stream",
     "text": [
      "insertion sort works\n"
     ]
    }
   ],
   "source": [
    "# insertion sort likes playing a card game\n",
    "\n",
    "def insertion_sort(L):\n",
    "    for j in xrange(1, len(L)):\n",
    "        key = L[j] \n",
    "        i = j - 1\n",
    "        \n",
    "        while i >= 0 and key > L[i]:\n",
    "            L[i+1] = L[i]\n",
    "            i = i -1\n",
    "            \n",
    "        L[i+1] = key\n",
    "        \n",
    "    return L\n",
    "        \n",
    "        \n",
    "# assert insertion_sort([5, 2, 4, 6, 1, 3]) == [1, 2 ,3, 4, 5, 6]\n",
    "assert insertion_sort([5, 2, 4, 6, 1, 3]) == [6, 5 ,4, 3, 2, 1]\n",
    "print \"insertion sort works\""
   ]
  },
  {
   "cell_type": "markdown",
   "metadata": {},
   "source": [
    "# bubble sort\n",
    "\n",
    "```\n",
    "for i = 1 to A.length - 1\n",
    " for j = A.length downto i+1\n",
    "     if A[j] < A[j-1]\n",
    "         exchange A[j] with A[j-1]\n",
    "```"
   ]
  },
  {
   "cell_type": "code",
   "execution_count": 3,
   "metadata": {
    "collapsed": false
   },
   "outputs": [
    {
     "name": "stdout",
     "output_type": "stream",
     "text": [
      "buble sort works\n"
     ]
    }
   ],
   "source": [
    "def buble_sort(L):\n",
    "    for i in xrange(len(L) - 1):\n",
    "        for j in xrange(len(L)-1, i, -1):\n",
    "            if L[j] < L[j-1]:\n",
    "                L[j], L[j-1] = L[j-1], L[j]\n",
    "    return L\n",
    "\n",
    "# buble_sort([5, 2, 4, 6, 1, 3])\n",
    "assert buble_sort([5, 2, 4, 6, 1, 3]) == [1, 2 ,3, 4, 5, 6]\n",
    "print \"buble sort works\""
   ]
  },
  {
   "cell_type": "markdown",
   "metadata": {},
   "source": [
    "# selection sort\n",
    "\n",
    "```\n",
    "for i = 0 to A.length - 1\n",
    "    # find the min\n",
    "    min = i;\n",
    "    for j = i to A.length\n",
    "        if A[j] < A[min]\n",
    "            min = j\n",
    "    exchange A[i] with A[min]\n",
    "```"
   ]
  },
  {
   "cell_type": "code",
   "execution_count": 4,
   "metadata": {
    "collapsed": false
   },
   "outputs": [
    {
     "name": "stdout",
     "output_type": "stream",
     "text": [
      "selection sort works\n"
     ]
    }
   ],
   "source": [
    "def selection_sort(L):\n",
    "    for i in xrange(len(L) - 1):\n",
    "        min_index = i;\n",
    "        for k in xrange(i+1, len(L)):\n",
    "            if L[k] < L[min_index]:\n",
    "                min_index = k\n",
    "        L[i], L[min_index] = L[min_index], L[i]\n",
    "    return L\n",
    "\n",
    "assert selection_sort([5, 2, 4, 6, 1, 3]) == [1, 2, 3, 4, 5, 6]\n",
    "print \"selection sort works\""
   ]
  },
  {
   "cell_type": "markdown",
   "metadata": {},
   "source": [
    "# merge sort\n",
    "\n",
    "\n"
   ]
  },
  {
   "cell_type": "code",
   "execution_count": 5,
   "metadata": {
    "collapsed": false
   },
   "outputs": [
    {
     "name": "stdout",
     "output_type": "stream",
     "text": [
      "merge sort works\n"
     ]
    }
   ],
   "source": [
    "def merge_sort(L):\n",
    "    \n",
    "    def merge(L1, L2):\n",
    "        if (len(L1) == 0): return L2\n",
    "        elif (len(L2) == 0): return L1\n",
    "        elif L1[0] < L2[0]: return [L1[0]] + merge(L1[1:], L2)\n",
    "        else: return [L2[0]] + merge(L1, L2[1:])\n",
    "    n = len(L) // 2\n",
    "    if (n == 0): return L\n",
    "    else: return merge(merge_sort(L[0:n]), merge_sort(L[n:]))\n",
    "    \n",
    "merge_sort([5, 7, 1, 3]) \n",
    "merge_sort([5, 2, 4, 7, 1, 3, 2, 6]) \n",
    "assert merge_sort([5, 2, 4, 6, 1, 3]) == [1, 2, 3, 4, 5, 6]\n",
    "print \"merge sort works\""
   ]
  },
  {
   "cell_type": "code",
   "execution_count": null,
   "metadata": {
    "collapsed": true
   },
   "outputs": [],
   "source": []
  }
 ],
 "metadata": {
  "kernelspec": {
   "display_name": "jupyter2_Python_2",
   "language": "python",
   "name": "jupyter2_python_2"
  },
  "language_info": {
   "codemirror_mode": {
    "name": "ipython",
    "version": 2
   },
   "file_extension": ".py",
   "mimetype": "text/x-python",
   "name": "python",
   "nbconvert_exporter": "python",
   "pygments_lexer": "ipython2",
   "version": "2.7.13"
  }
 },
 "nbformat": 4,
 "nbformat_minor": 0
}
