{
 "cells": [
  {
   "cell_type": "markdown",
   "metadata": {},
   "source": [
    "# Learning point\n",
    "\n",
    "- quick-sort\n",
    "- count the comparison from the number of recursive calls\n"
   ]
  },
  {
   "cell_type": "markdown",
   "metadata": {},
   "source": [
    "## quick sort\n",
    "\n",
    "The main principle is to recursively sort the array with partinioning aroung a pivot.\n",
    "\n",
    "On average, the running-time of quick sort is $\\mathcal{O}(n\\log{}n)$ \n",
    "\n",
    "\n",
    "### Pseudocode\n",
    "\n",
    "    QuickSort(array A, length n)\n",
    "    if n = 1 return\n",
    "    p = choosePivot(A, n)\n",
    "    recursively sort 1st part\n",
    "    recursively sort 2nd part"
   ]
  },
  {
   "cell_type": "code",
   "execution_count": 30,
   "metadata": {},
   "outputs": [
    {
     "name": "stdout",
     "output_type": "stream",
     "text": [
      "quick sort passed\n"
     ]
    }
   ],
   "source": [
    "from random import randint\n",
    "\n",
    "def quick_sort(a_array, method = \"first\", count_comp = False, l = 0, r = None):\n",
    "    if count_comp:\n",
    "        res = {'count': 0}\n",
    "        \n",
    "    if r is None:\n",
    "        r = len(a_array) - 1\n",
    "        \n",
    "    def recur(a_array, method, count_comp, l, r):\n",
    "        \n",
    "        if l >= r:\n",
    "            return \n",
    "        \n",
    "        # picking the pivot element\n",
    "        p = choose_pivot(a_array, method, l, r)\n",
    "        if count_comp:\n",
    "            res['count'] += (r -l)\n",
    "        \n",
    "        p_index = partition(a_array, l, r, p)\n",
    "        recur(a_array, method, count_comp, l, p_index-1)\n",
    "        recur(a_array, method, count_comp, p_index+1, r)\n",
    "        if count_comp:\n",
    "            return res['count']\n",
    "    \n",
    "     \n",
    "    return recur(a_array, method, count_comp, l, r)\n",
    "\n",
    "def median(a, b, c):\n",
    "    if (a[0] - b[0]) * (c[0] - a[0]) >= 0:\n",
    "        return a[1]\n",
    "    elif (b[0] - a[0]) * (c[0] - b[0]) >= 0:\n",
    "        return b[1]\n",
    "    else:\n",
    "        return c[1]\n",
    "\n",
    "def choose_pivot(a_array, method, l, r):\n",
    "    if method == \"first\":\n",
    "        return a_array[l]\n",
    "    \n",
    "    if method == \"last\":\n",
    "        a_array[l], a_array[r] = a_array[r], a_array[l]\n",
    "        return a_array[l]\n",
    "    \n",
    "    if method == \"random\":\n",
    "        pivot = randint(l, r)\n",
    "        a_array[l], a_array[pivot] = a_array[pivot], a_array[l]\n",
    "        return a_array[l]\n",
    "    \n",
    "    if method == \"mid\":\n",
    "        first = (a_array[l], l)\n",
    "        last = (a_array[r], r)\n",
    "        length =  r - l + 1\n",
    "        if ( (length) % 2 ) != 0:\n",
    "            idx = l + length // 2\n",
    "            mid = (a_array[idx], idx)\n",
    "        else:\n",
    "            idx = l + (length // 2) - 1\n",
    "            mid = (a_array[idx], idx)\n",
    "        pivot = median(first, last, mid)\n",
    "        a_array[l], a_array[pivot] = a_array[pivot], a_array[l]\n",
    "        return a_array[l]\n",
    "        \n",
    "def partition(a_array, l, r, p):\n",
    "    p_index = l + 1 \n",
    "    should_swap = False\n",
    "    \n",
    "    for j in range(l+1, r + 1):\n",
    "        if a_array[j] > p:\n",
    "            should_swap = True\n",
    "        if a_array[j] <= p:\n",
    "            if should_swap: \n",
    "                a_array[j], a_array[p_index] = a_array[p_index], a_array[j]\n",
    "            p_index += 1\n",
    "    a_array[p_index - 1], a_array[l] = a_array[l], a_array[p_index - 1]\n",
    "\n",
    "    return p_index - 1\n",
    "\n",
    "test_array_0 = [3, 2, 1, 5, 4]\n",
    "test_array_1 = [1, 2, 4, 5, 3, 6, 8, 7]\n",
    "test_array_2 = [-20, 1, 2, 4, 5, 3, 6, 8, 7]\n",
    "test_array_3 = [-20, -100, 1, 700, 56, 20, 2, 4, 5, 3, 6, 8, 7]\n",
    "\n",
    "assert quick_sort(test_array_0, \"first\", count_comp=True) == 6\n",
    "assert test_array_0 == [1, 2, 3, 4, 5]\n",
    "\n",
    "quick_sort(test_array_1) \n",
    "assert test_array_1 == [1, 2, 3, 4, 5, 6, 7, 8]\n",
    "\n",
    "quick_sort(test_array_2) \n",
    "assert test_array_2 == [-20, 1, 2, 3, 4, 5, 6, 7, 8] \n",
    "\n",
    "quick_sort(test_array_3)\n",
    "assert test_array_3 == [-100, -20, 1, 2, 3, 4, 5, 6, 7, 8, 20, 56, 700]\n",
    "quick_sort(test_array_3, \"random\") \n",
    "assert test_array_3 == [-100, -20, 1, 2, 3, 4, 5, 6, 7, 8, 20, 56, 700]\n",
    "\n",
    "print \"quick sort passed\""
   ]
  },
  {
   "cell_type": "code",
   "execution_count": 32,
   "metadata": {},
   "outputs": [
    {
     "data": {
      "text/plain": [
       "162085"
      ]
     },
     "execution_count": 32,
     "metadata": {},
     "output_type": "execute_result"
    },
    {
     "data": {
      "text/plain": [
       "164123"
      ]
     },
     "execution_count": 32,
     "metadata": {},
     "output_type": "execute_result"
    },
    {
     "data": {
      "text/plain": [
       "138382"
      ]
     },
     "execution_count": 32,
     "metadata": {},
     "output_type": "execute_result"
    }
   ],
   "source": [
    "# count number of comparisons made by quick sort\n",
    "int_arr = []\n",
    "with open(\"../assignments/week3_integers.txt\") as f:\n",
    "    for l in f:\n",
    "        int_arr.append(int(l))\n",
    "quick_sort(int_arr[:], \"first\", count_comp=True)\n",
    "quick_sort(int_arr[:], \"last\", count_comp=True)\n",
    "quick_sort(int_arr[:], \"mid\", count_comp=True)"
   ]
  },
  {
   "cell_type": "code",
   "execution_count": null,
   "metadata": {
    "collapsed": true
   },
   "outputs": [],
   "source": []
  }
 ],
 "metadata": {
  "kernelspec": {
   "display_name": "Python2 (py2)",
   "language": "python",
   "name": "py2"
  },
  "language_info": {
   "codemirror_mode": {
    "name": "ipython",
    "version": 2
   },
   "file_extension": ".py",
   "mimetype": "text/x-python",
   "name": "python",
   "nbconvert_exporter": "python",
   "pygments_lexer": "ipython2",
   "version": "2.7.13"
  }
 },
 "nbformat": 4,
 "nbformat_minor": 2
}
